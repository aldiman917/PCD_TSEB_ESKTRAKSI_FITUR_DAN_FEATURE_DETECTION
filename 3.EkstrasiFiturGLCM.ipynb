{
 "cells": [
  {
   "cell_type": "code",
   "execution_count": 5,
   "id": "cf5d3c10-71de-4e6a-a2ee-1bbc07d2c0d6",
   "metadata": {
    "tags": []
   },
   "outputs": [
    {
     "ename": "ImportError",
     "evalue": "cannot import name 'greycomatrix' from 'skimage.feature' (C:\\Users\\user\\AppData\\Local\\Programs\\Python\\Python311\\Lib\\site-packages\\skimage\\feature\\__init__.py)",
     "output_type": "error",
     "traceback": [
      "\u001b[1;31m---------------------------------------------------------------------------\u001b[0m",
      "\u001b[1;31mImportError\u001b[0m                               Traceback (most recent call last)",
      "Cell \u001b[1;32mIn[5], line 2\u001b[0m\n\u001b[0;32m      1\u001b[0m \u001b[38;5;28;01mimport\u001b[39;00m \u001b[38;5;21;01mmatplotlib\u001b[39;00m\u001b[38;5;21;01m.\u001b[39;00m\u001b[38;5;21;01mpyplot\u001b[39;00m \u001b[38;5;28;01mas\u001b[39;00m \u001b[38;5;21;01mplt\u001b[39;00m\n\u001b[1;32m----> 2\u001b[0m \u001b[38;5;28;01mfrom\u001b[39;00m \u001b[38;5;21;01mskimage\u001b[39;00m\u001b[38;5;21;01m.\u001b[39;00m\u001b[38;5;21;01mfeature\u001b[39;00m \u001b[38;5;28;01mimport\u001b[39;00m greycomatrix, greycoprops\n\u001b[0;32m      3\u001b[0m \u001b[38;5;28;01mimport\u001b[39;00m \u001b[38;5;21;01mcv2\u001b[39;00m\n\u001b[0;32m      4\u001b[0m PATCH_SIZE \u001b[38;5;241m=\u001b[39m \u001b[38;5;241m21\u001b[39m\n",
      "\u001b[1;31mImportError\u001b[0m: cannot import name 'greycomatrix' from 'skimage.feature' (C:\\Users\\user\\AppData\\Local\\Programs\\Python\\Python311\\Lib\\site-packages\\skimage\\feature\\__init__.py)"
     ]
    }
   ],
   "source": [
    "import matplotlib.pyplot as plt\n",
    "from skimage.feature import greycomatrix, greycoprops\n",
    "import cv2\n",
    "PATCH_SIZE = 21\n"
   ]
  },
  {
   "cell_type": "code",
   "execution_count": 6,
   "id": "7a9316b6-b49a-45ea-a17d-68970fefa5b4",
   "metadata": {
    "tags": []
   },
   "outputs": [
    {
     "ename": "NameError",
     "evalue": "name 'cv2' is not defined",
     "output_type": "error",
     "traceback": [
      "\u001b[1;31m---------------------------------------------------------------------------\u001b[0m",
      "\u001b[1;31mNameError\u001b[0m                                 Traceback (most recent call last)",
      "Cell \u001b[1;32mIn[6], line 1\u001b[0m\n\u001b[1;32m----> 1\u001b[0m image \u001b[38;5;241m=\u001b[39m \u001b[43mcv2\u001b[49m\u001b[38;5;241m.\u001b[39mimread(\u001b[38;5;124m\"\u001b[39m\u001b[38;5;124mkucing.jpg\u001b[39m\u001b[38;5;124m\"\u001b[39m)\n",
      "\u001b[1;31mNameError\u001b[0m: name 'cv2' is not defined"
     ]
    }
   ],
   "source": [
    "image = cv2.imread(\"kucing.jpg\")"
   ]
  },
  {
   "cell_type": "code",
   "execution_count": 7,
   "id": "d84b570d-4e14-406e-9f8c-31d428a77589",
   "metadata": {
    "tags": []
   },
   "outputs": [
    {
     "ename": "NameError",
     "evalue": "name 'image' is not defined",
     "output_type": "error",
     "traceback": [
      "\u001b[1;31m---------------------------------------------------------------------------\u001b[0m",
      "\u001b[1;31mNameError\u001b[0m                                 Traceback (most recent call last)",
      "Cell \u001b[1;32mIn[7], line 4\u001b[0m\n\u001b[0;32m      2\u001b[0m grass_patches \u001b[38;5;241m=\u001b[39m []\n\u001b[0;32m      3\u001b[0m \u001b[38;5;28;01mfor\u001b[39;00m loc \u001b[38;5;129;01min\u001b[39;00m grass_locations:\n\u001b[1;32m----> 4\u001b[0m     grass_patches\u001b[38;5;241m.\u001b[39mappend(\u001b[43mimage\u001b[49m[loc[\u001b[38;5;241m0\u001b[39m]:loc[\u001b[38;5;241m0\u001b[39m] \u001b[38;5;241m+\u001b[39m PATCH_SIZE,\n\u001b[0;32m      5\u001b[0m                                loc[\u001b[38;5;241m1\u001b[39m]:loc[\u001b[38;5;241m1\u001b[39m] \u001b[38;5;241m+\u001b[39m PATCH_SIZE])\n\u001b[0;32m      7\u001b[0m sky_locations \u001b[38;5;241m=\u001b[39m [(\u001b[38;5;241m38\u001b[39m, \u001b[38;5;241m34\u001b[39m), (\u001b[38;5;241m139\u001b[39m, \u001b[38;5;241m28\u001b[39m), (\u001b[38;5;241m37\u001b[39m, \u001b[38;5;241m437\u001b[39m), (\u001b[38;5;241m145\u001b[39m, \u001b[38;5;241m379\u001b[39m)]\n\u001b[0;32m      8\u001b[0m sky_patches \u001b[38;5;241m=\u001b[39m []\n",
      "\u001b[1;31mNameError\u001b[0m: name 'image' is not defined"
     ]
    }
   ],
   "source": [
    "grass_locations = [(280, 454), (342, 223), (444, 192), (455, 455)]\n",
    "grass_patches = []\n",
    "for loc in grass_locations:\n",
    "    grass_patches.append(image[loc[0]:loc[0] + PATCH_SIZE,\n",
    "                               loc[1]:loc[1] + PATCH_SIZE])\n",
    "\n",
    "sky_locations = [(38, 34), (139, 28), (37, 437), (145, 379)]\n",
    "sky_patches = []\n",
    "for loc in sky_locations:\n",
    "    sky_patches.append(image[loc[0]:loc[0] + PATCH_SIZE,\n",
    "\n",
    "                             loc[1]:loc[1] + PATCH_SIZE])\n",
    "# menghitung GLCM\n",
    "xs = []\n",
    "ys = []\n",
    "for patch in (grass_patches + sky_patches):\n",
    "    glcm = greycomatrix(patch, distances=[5], angles=[0], levels=256,\n",
    "                        symmetric=True, normed=True)\n",
    "    xs.append(greycoprops(glcm, 'dissimilarity')[0, 0])\n",
    "    ys.append(greycoprops(glcm, 'correlation')[0, 0])  \n",
    "    \n",
    "fig = plt.figure(figsize=(8, 8))\n",
    "\n",
    "# tampilkan original image dengan lokasi patches\n",
    "ax = fig.add_subplot(3, 2, 1)\n",
    "ax.imshow(image, cmap=plt.cm.gray,\n",
    "          vmin=0, vmax=255)\n",
    "for (y, x) in grass_locations:\n",
    "    ax.plot(x + PATCH_SIZE / 2, y + PATCH_SIZE / 2, 'gs')\n",
    "for (y, x) in sky_locations:\n",
    "    ax.plot(x + PATCH_SIZE / 2, y + PATCH_SIZE / 2, 'bs')\n",
    "ax.set_xlabel('Original Image')\n",
    "ax.set_xticks([])\n",
    "ax.set_yticks([])\n",
    "ax.axis('image')\n",
    "\n",
    "# plot (dissimilarity, correlation)\n",
    "ax = fig.add_subplot(3, 2, 2)\n",
    "ax.plot(xs[:len(grass_patches)], ys[:len(grass_patches)], 'go',\n",
    "        label='Grass')\n",
    "ax.plot(xs[len(grass_patches):], ys[len(grass_patches):], 'bo',\n",
    "        label='Sky')\n",
    "ax.set_xlabel('GLCM Dissimilarity')\n",
    "ax.set_ylabel('GLCM Correlation')\n",
    "ax.legend()\n",
    "\n",
    "# display\n",
    "for i, patch in enumerate(grass_patches):\n",
    "    ax = fig.add_subplot(3, len(grass_patches), len(grass_patches)*1 + i + 1)\n",
    "    ax.imshow(patch, cmap=plt.cm.gray,\n",
    "              vmin=0, vmax=255)\n",
    "    ax.set_xlabel('Grass %d' % (i + 1))\n",
    "    \n",
    "for i, patch in enumerate(sky_patches):\n",
    "    ax = fig.add_subplot(3, len(sky_patches), len(sky_patches)*2 + i + 1)\n",
    "    ax.imshow(patch, cmap=plt.cm.gray,\n",
    "              vmin=0, vmax=255)\n",
    "    ax.set_xlabel('Sky %d' % (i + 1))\n",
    "    \n",
    "# display\n",
    "fig.suptitle('Grey level co-occurrence matrix features', fontsize=14, y=1.05)\n",
    "plt.tight_layout()\n",
    "plt.show()"
   ]
  }
 ],
 "metadata": {
  "kernelspec": {
   "display_name": "Python 3 (ipykernel)",
   "language": "python",
   "name": "python3"
  },
  "language_info": {
   "codemirror_mode": {
    "name": "ipython",
    "version": 3
   },
   "file_extension": ".py",
   "mimetype": "text/x-python",
   "name": "python",
   "nbconvert_exporter": "python",
   "pygments_lexer": "ipython3",
   "version": "3.11.3"
  }
 },
 "nbformat": 4,
 "nbformat_minor": 5
}
